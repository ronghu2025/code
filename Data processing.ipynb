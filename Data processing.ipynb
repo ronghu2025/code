{
 "cells": [
  {
   "cell_type": "code",
   "execution_count": null,
   "metadata": {
    "vscode": {
     "languageId": "plaintext"
    }
   },
   "outputs": [],
   "source": [
    "# Extract sequence header\n",
    "import re\n",
    "A = open('File.fasta')\n",
    "B = open('FILE_header.txt','w')\n",
    "for i in A:\n",
    "    if i.startswith('>'):\n",
    "        i = i.replace('\\n','')\n",
    "        header = str(i)\n",
    "        X = re.findall('\\[(.*?)\\]',header) \n",
    "        B.write(X[0]+'\\n')\n",
    "A.close()\n",
    "B.close()"
   ]
  },
  {
   "cell_type": "code",
   "execution_count": null,
   "metadata": {
    "vscode": {
     "languageId": "plaintext"
    }
   },
   "outputs": [],
   "source": [
    "# Extract Family and Order of each species\n",
    "cat FILE_header.txt \\\n",
    "| taxonkit name2taxid \\\n",
    "|cut -f 2  \\\n",
    "| taxonkit lineage \\\n",
    "| taxonkit reformat \\  \n",
    "-f \"{k}\\t{p}\\t{c}\\t{o}\\t{f}\\t{g}\\t{s}\" \\\n",
    "-F -P \\\n",
    "|csvtk cut -t -f -2 \\   \n",
    ">FILE.taxon.txt  "
   ]
  },
  {
   "cell_type": "code",
   "execution_count": null,
   "metadata": {
    "vscode": {
     "languageId": "plaintext"
    }
   },
   "outputs": [],
   "source": [
    "# Merge the header and taxon files\n",
    "for i in $(ls *.taxon.txt)\n",
    "do\n",
    "    i=${i/.taxon.txt/}\n",
    "    paste -d '\\t' ${i}_header.txt ${i}.taxon.txt >${i}.txt\n",
    "done"
   ]
  },
  {
   "cell_type": "code",
   "execution_count": null,
   "metadata": {
    "vscode": {
     "languageId": "plaintext"
    }
   },
   "outputs": [],
   "source": [
    "# Simplify the header\n",
    "import re\n",
    "A=open('FILE.txt')\n",
    "B=open('FILE.header_simplify.txt','a')\n",
    "for a in A:\n",
    "    if a.startswith('>'):\n",
    "        geneID1=re.split(' ',a)[0] \n",
    "        species1=a.split('[')[-1].split(']')[0]\n",
    "        header1=(geneID1+'_'+species1+'_TAXON').replace(' ','_') \n",
    "        # print(header1)\n",
    "        B.write(header1+'\\n')\n",
    "    else:\n",
    "        B.write(a+'\\n')\n",
    "A.close()\n",
    "B.close()"
   ]
  },
  {
   "cell_type": "code",
   "execution_count": null,
   "metadata": {
    "vscode": {
     "languageId": "plaintext"
    }
   },
   "outputs": [],
   "source": [
    "# Color attached\n",
    "A=open('FILE.fasta')\n",
    "B=open('FILE.color.txt','w')\n",
    "for a in A:\n",
    "    if a.startswith('>'):\n",
    "        ID=a[1:].replace('\\n','')\n",
    "        # print(ID)\n",
    "        if ID.endswith('TAXON1'):\n",
    "            TAXON1=ID+' label_background #ce7e00'\n",
    "            B.write(TAXON1+'\\n')\n",
    "        elif ID.endswith('TAXON2'):\n",
    "            TAXON2=ID+' label_background #ffd966'\n",
    "            B.write(TAXON2+'\\n')\n",
    "A.close()\n",
    "B.close()"
   ]
  }
 ],
 "metadata": {
  "language_info": {
   "name": "python"
  }
 },
 "nbformat": 4,
 "nbformat_minor": 2
}
